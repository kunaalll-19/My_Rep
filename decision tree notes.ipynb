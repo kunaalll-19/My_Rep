{
 "cells": [
  {
   "cell_type": "markdown",
   "id": "2bd3010f-a268-45c7-919b-49cdb53b0d3c",
   "metadata": {},
   "source": [
    "# Gini Values"
   ]
  },
  {
   "cell_type": "markdown",
   "id": "62fd8da4-c0c5-46a0-9c2d-222cdd7c6f5e",
   "metadata": {},
   "source": [
    "---\n",
    "**gini val= p^2+q^2**\\\n",
    "p=prob of success \\\n",
    "q=prob of failure \n",
    "---\n",
    "gini impurity=1-gini "
   ]
  },
  {
   "cell_type": "markdown",
   "id": "7316e0ca-1221-4df9-a3cd-dacf4c3bb592",
   "metadata": {},
   "source": [
    "# chi Square"
   ]
  },
  {
   "cell_type": "markdown",
   "id": "635cef50-fa83-4bc8-be3d-aa9d2164ed96",
   "metadata": {},
   "source": [
    "chi square=((actual-expected)^2/expected)^0.5"
   ]
  },
  {
   "cell_type": "markdown",
   "id": "f6b928bf-aaaf-46ec-941e-7fafc82abfc9",
   "metadata": {},
   "source": [
    "# information gain"
   ]
  }
 ],
 "metadata": {
  "kernelspec": {
   "display_name": "Python 3 (ipykernel)",
   "language": "python",
   "name": "python3"
  },
  "language_info": {
   "codemirror_mode": {
    "name": "ipython",
    "version": 3
   },
   "file_extension": ".py",
   "mimetype": "text/x-python",
   "name": "python",
   "nbconvert_exporter": "python",
   "pygments_lexer": "ipython3",
   "version": "3.9.12"
  }
 },
 "nbformat": 4,
 "nbformat_minor": 5
}
