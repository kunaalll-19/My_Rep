{
 "cells": [
  {
   "cell_type": "markdown",
   "id": "3dd98fc8",
   "metadata": {
    "tags": []
   },
   "source": [
    "# Task 1 Summer school"
   ]
  },
  {
   "cell_type": "markdown",
   "id": "fe2b3689",
   "metadata": {},
   "source": [
    "First let us load all the required packages and defining the functions to be used."
   ]
  },
  {
   "cell_type": "code",
   "execution_count": 1,
   "id": "f30ffb60",
   "metadata": {},
   "outputs": [],
   "source": [
    "import matplotlib.pyplot as mp\n",
    "import pandas as pd\n",
    "import csv\n",
    "\n",
    "def max(l):\n",
    "    max=l[0]\n",
    "    for i in range(len(l)):\n",
    "        if max<l[i] :\n",
    "            max=l[i]\n",
    "    return max\n",
    "\n",
    "def min(l):\n",
    "    min=l[0]\n",
    "    for i in range(len(l)):\n",
    "        if min<l[i] :\n",
    "            min=l[i]\n",
    "    return min\n",
    "\n",
    "def str_to_float(string):\n",
    "    str1=''\n",
    "    for i in string :\n",
    "        if ((not(i.isspace())) and (i!='%')):\n",
    "            str1+=i\n",
    "    if '%' in str1 :\n",
    "        str1.replace('%','')\n",
    "        print(str1)\n",
    "    return float(str1)"
   ]
  },
  {
   "cell_type": "markdown",
   "id": "0b4d1f9e",
   "metadata": {},
   "source": [
    "After getting all the packages we need to import the data."
   ]
  },
  {
   "cell_type": "code",
   "execution_count": 2,
   "id": "2954a36e",
   "metadata": {},
   "outputs": [],
   "source": [
    "dat = pd.read_csv('data.csv')"
   ]
  },
  {
   "cell_type": "code",
   "execution_count": 3,
   "id": "40740e3a",
   "metadata": {},
   "outputs": [
    {
     "data": {
      "text/html": [
       "<div>\n",
       "<style scoped>\n",
       "    .dataframe tbody tr th:only-of-type {\n",
       "        vertical-align: middle;\n",
       "    }\n",
       "\n",
       "    .dataframe tbody tr th {\n",
       "        vertical-align: top;\n",
       "    }\n",
       "\n",
       "    .dataframe thead th {\n",
       "        text-align: right;\n",
       "    }\n",
       "</style>\n",
       "<table border=\"1\" class=\"dataframe\">\n",
       "  <thead>\n",
       "    <tr style=\"text-align: right;\">\n",
       "      <th></th>\n",
       "      <th>S.No</th>\n",
       "      <th>EmpID</th>\n",
       "      <th>Emp Name</th>\n",
       "      <th>DOJ</th>\n",
       "      <th>Designation</th>\n",
       "      <th>Grade</th>\n",
       "      <th>Attrition</th>\n",
       "      <th>Location</th>\n",
       "      <th>In Active Date</th>\n",
       "      <th>Tenure</th>\n",
       "      <th>Gender</th>\n",
       "      <th>Education</th>\n",
       "      <th>Age</th>\n",
       "      <th>Last Rating</th>\n",
       "      <th>Monthly Income</th>\n",
       "      <th>Engagement Score (% Satisfaction)</th>\n",
       "      <th>Marital Status</th>\n",
       "      <th>Zone</th>\n",
       "      <th>Remarks</th>\n",
       "    </tr>\n",
       "  </thead>\n",
       "  <tbody>\n",
       "    <tr>\n",
       "      <th>0</th>\n",
       "      <td>1</td>\n",
       "      <td>XYZ2685</td>\n",
       "      <td>ABC1</td>\n",
       "      <td>22-Nov-10</td>\n",
       "      <td>Sales Executive</td>\n",
       "      <td>E1</td>\n",
       "      <td>Yes</td>\n",
       "      <td>Bhavnagar</td>\n",
       "      <td>26-May-12</td>\n",
       "      <td>1. 6</td>\n",
       "      <td>Female</td>\n",
       "      <td>Bachelors</td>\n",
       "      <td>27</td>\n",
       "      <td>4</td>\n",
       "      <td>25535</td>\n",
       "      <td>2%</td>\n",
       "      <td>Divorced</td>\n",
       "      <td>West</td>\n",
       "      <td>Issues with the Manager</td>\n",
       "    </tr>\n",
       "    <tr>\n",
       "      <th>1</th>\n",
       "      <td>2</td>\n",
       "      <td>XYZ2490</td>\n",
       "      <td>ABC2</td>\n",
       "      <td>5-Jul-10</td>\n",
       "      <td>Technical Services Officer</td>\n",
       "      <td>M2</td>\n",
       "      <td>Yes</td>\n",
       "      <td>Jayanagar</td>\n",
       "      <td>6-Apr-12</td>\n",
       "      <td>1. 9</td>\n",
       "      <td>Male</td>\n",
       "      <td>MBA</td>\n",
       "      <td>36</td>\n",
       "      <td>2</td>\n",
       "      <td>52155</td>\n",
       "      <td>45%</td>\n",
       "      <td>Single</td>\n",
       "      <td>South</td>\n",
       "      <td>More Challenging Job Roles/ Higher designation</td>\n",
       "    </tr>\n",
       "    <tr>\n",
       "      <th>2</th>\n",
       "      <td>3</td>\n",
       "      <td>XYZ2662</td>\n",
       "      <td>ABC3</td>\n",
       "      <td>20-Oct-10</td>\n",
       "      <td>Sales Executive</td>\n",
       "      <td>E1</td>\n",
       "      <td>Yes</td>\n",
       "      <td>Indore</td>\n",
       "      <td>7-Apr-12</td>\n",
       "      <td>1. 5</td>\n",
       "      <td>Male</td>\n",
       "      <td>Bachelors</td>\n",
       "      <td>24</td>\n",
       "      <td>4</td>\n",
       "      <td>26438</td>\n",
       "      <td>18%</td>\n",
       "      <td>Divorced</td>\n",
       "      <td>CENTRAL</td>\n",
       "      <td>Issues with the Manager</td>\n",
       "    </tr>\n",
       "    <tr>\n",
       "      <th>3</th>\n",
       "      <td>4</td>\n",
       "      <td>XYZ1679</td>\n",
       "      <td>ABC4</td>\n",
       "      <td>1 May 08</td>\n",
       "      <td>AM - Sales</td>\n",
       "      <td>M1</td>\n",
       "      <td>Yes</td>\n",
       "      <td>Admin Gujarat</td>\n",
       "      <td>3 Apr 12</td>\n",
       "      <td>3 .11</td>\n",
       "      <td>Male</td>\n",
       "      <td>Bachelors</td>\n",
       "      <td>33</td>\n",
       "      <td>2</td>\n",
       "      <td>54311</td>\n",
       "      <td>82%</td>\n",
       "      <td>Single</td>\n",
       "      <td>West</td>\n",
       "      <td>Lack of Growth</td>\n",
       "    </tr>\n",
       "    <tr>\n",
       "      <th>4</th>\n",
       "      <td>5</td>\n",
       "      <td>XYZ2378</td>\n",
       "      <td>ABC5</td>\n",
       "      <td>3 Mar 10</td>\n",
       "      <td>Sales Executive</td>\n",
       "      <td>E1</td>\n",
       "      <td>Yes</td>\n",
       "      <td>Jagdishpuram</td>\n",
       "      <td>10 Apr 12</td>\n",
       "      <td>2 .1</td>\n",
       "      <td>Male</td>\n",
       "      <td>Bachelors</td>\n",
       "      <td>24</td>\n",
       "      <td>4</td>\n",
       "      <td>26702</td>\n",
       "      <td>49%</td>\n",
       "      <td>Divorced</td>\n",
       "      <td>North</td>\n",
       "      <td>Issues with the Manager</td>\n",
       "    </tr>\n",
       "    <tr>\n",
       "      <th>...</th>\n",
       "      <td>...</td>\n",
       "      <td>...</td>\n",
       "      <td>...</td>\n",
       "      <td>...</td>\n",
       "      <td>...</td>\n",
       "      <td>...</td>\n",
       "      <td>...</td>\n",
       "      <td>...</td>\n",
       "      <td>...</td>\n",
       "      <td>...</td>\n",
       "      <td>...</td>\n",
       "      <td>...</td>\n",
       "      <td>...</td>\n",
       "      <td>...</td>\n",
       "      <td>...</td>\n",
       "      <td>...</td>\n",
       "      <td>...</td>\n",
       "      <td>...</td>\n",
       "      <td>...</td>\n",
       "    </tr>\n",
       "    <tr>\n",
       "      <th>322</th>\n",
       "      <td>323</td>\n",
       "      <td>XYZ1538</td>\n",
       "      <td>ABC323</td>\n",
       "      <td>26-May-08</td>\n",
       "      <td>AM - Sales</td>\n",
       "      <td>M1</td>\n",
       "      <td>Yes</td>\n",
       "      <td>Guntur</td>\n",
       "      <td>15 Mar 13</td>\n",
       "      <td>4 .9</td>\n",
       "      <td>Male</td>\n",
       "      <td>Bachelors</td>\n",
       "      <td>37</td>\n",
       "      <td>2</td>\n",
       "      <td>53841</td>\n",
       "      <td>69%</td>\n",
       "      <td>Divorced</td>\n",
       "      <td>South</td>\n",
       "      <td>Lack of Growth</td>\n",
       "    </tr>\n",
       "    <tr>\n",
       "      <th>323</th>\n",
       "      <td>324</td>\n",
       "      <td>XYZ3221</td>\n",
       "      <td>ABC324</td>\n",
       "      <td>13-Sep-12</td>\n",
       "      <td>Sales Executive</td>\n",
       "      <td>E1</td>\n",
       "      <td>Yes</td>\n",
       "      <td>Guntur</td>\n",
       "      <td>7 Mar 13</td>\n",
       "      <td>0. 5</td>\n",
       "      <td>Male</td>\n",
       "      <td>Bachelors</td>\n",
       "      <td>25</td>\n",
       "      <td>3</td>\n",
       "      <td>25813</td>\n",
       "      <td>11%</td>\n",
       "      <td>Married</td>\n",
       "      <td>South</td>\n",
       "      <td>Lack of Growth</td>\n",
       "    </tr>\n",
       "    <tr>\n",
       "      <th>324</th>\n",
       "      <td>325</td>\n",
       "      <td>XYZ0207</td>\n",
       "      <td>ABC325</td>\n",
       "      <td>12-Dec-05</td>\n",
       "      <td>Sr Sales Executive</td>\n",
       "      <td>E2</td>\n",
       "      <td>Yes</td>\n",
       "      <td>Guntur</td>\n",
       "      <td>12 Mar 13</td>\n",
       "      <td>7 .3</td>\n",
       "      <td>Male</td>\n",
       "      <td>Bachelors</td>\n",
       "      <td>28</td>\n",
       "      <td>1</td>\n",
       "      <td>36498</td>\n",
       "      <td>11%</td>\n",
       "      <td>Divorced</td>\n",
       "      <td>South</td>\n",
       "      <td>Lack of Growth</td>\n",
       "    </tr>\n",
       "    <tr>\n",
       "      <th>325</th>\n",
       "      <td>326</td>\n",
       "      <td>XYZ0183</td>\n",
       "      <td>ABC326</td>\n",
       "      <td>21-Jul-04</td>\n",
       "      <td>AM - Sales</td>\n",
       "      <td>M1</td>\n",
       "      <td>Yes</td>\n",
       "      <td>Guntur</td>\n",
       "      <td>31 Mar 13</td>\n",
       "      <td>8 .8</td>\n",
       "      <td>Male</td>\n",
       "      <td>Bachelors</td>\n",
       "      <td>36</td>\n",
       "      <td>3</td>\n",
       "      <td>51796</td>\n",
       "      <td>82%</td>\n",
       "      <td>Divorced</td>\n",
       "      <td>South</td>\n",
       "      <td>Termination - Poor Performance</td>\n",
       "    </tr>\n",
       "    <tr>\n",
       "      <th>326</th>\n",
       "      <td>327</td>\n",
       "      <td>XYZ3381</td>\n",
       "      <td>ABC327</td>\n",
       "      <td>22-Feb-13</td>\n",
       "      <td>Sales Executive</td>\n",
       "      <td>E1</td>\n",
       "      <td>Yes</td>\n",
       "      <td>Hinoo</td>\n",
       "      <td>8 Mar 13</td>\n",
       "      <td>0. 0</td>\n",
       "      <td>Male</td>\n",
       "      <td>Bachelors</td>\n",
       "      <td>27</td>\n",
       "      <td>4</td>\n",
       "      <td>26678</td>\n",
       "      <td>49%</td>\n",
       "      <td>Divorced</td>\n",
       "      <td>East</td>\n",
       "      <td>Issues with the Manager</td>\n",
       "    </tr>\n",
       "  </tbody>\n",
       "</table>\n",
       "<p>327 rows × 19 columns</p>\n",
       "</div>"
      ],
      "text/plain": [
       "     S.No    EmpID Emp Name        DOJ                 Designation Grade  \\\n",
       "0       1  XYZ2685     ABC1  22-Nov-10             Sales Executive    E1   \n",
       "1       2  XYZ2490     ABC2   5-Jul-10  Technical Services Officer    M2   \n",
       "2       3  XYZ2662     ABC3  20-Oct-10             Sales Executive    E1   \n",
       "3       4  XYZ1679     ABC4   1 May 08                  AM - Sales    M1   \n",
       "4       5  XYZ2378     ABC5   3 Mar 10            Sales Executive     E1   \n",
       "..    ...      ...      ...        ...                         ...   ...   \n",
       "322   323  XYZ1538   ABC323  26-May-08                  AM - Sales    M1   \n",
       "323   324  XYZ3221   ABC324  13-Sep-12             Sales Executive    E1   \n",
       "324   325  XYZ0207   ABC325  12-Dec-05          Sr Sales Executive    E2   \n",
       "325   326  XYZ0183   ABC326  21-Jul-04                  AM - Sales    M1   \n",
       "326   327  XYZ3381   ABC327  22-Feb-13             Sales Executive    E1   \n",
       "\n",
       "    Attrition        Location In Active Date  Tenure  Gender  Education  Age  \\\n",
       "0          Yes      Bhavnagar      26-May-12   1. 6   Female  Bachelors   27   \n",
       "1          Yes      Jayanagar       6-Apr-12   1. 9     Male        MBA   36   \n",
       "2          Yes         Indore       7-Apr-12   1. 5     Male  Bachelors   24   \n",
       "3          Yes  Admin Gujarat       3 Apr 12  3 .11     Male  Bachelors   33   \n",
       "4          Yes   Jagdishpuram      10 Apr 12   2 .1     Male  Bachelors   24   \n",
       "..         ...            ...            ...     ...     ...        ...  ...   \n",
       "322        Yes         Guntur      15 Mar 13   4 .9     Male  Bachelors   37   \n",
       "323        Yes         Guntur       7 Mar 13   0. 5     Male  Bachelors   25   \n",
       "324        Yes         Guntur      12 Mar 13   7 .3     Male  Bachelors   28   \n",
       "325        Yes         Guntur      31 Mar 13   8 .8     Male  Bachelors   36   \n",
       "326        Yes          Hinoo       8 Mar 13   0. 0     Male  Bachelors   27   \n",
       "\n",
       "     Last Rating  Monthly Income Engagement Score (% Satisfaction)  \\\n",
       "0              4           25535                                2%   \n",
       "1              2           52155                               45%   \n",
       "2              4           26438                               18%   \n",
       "3              2           54311                               82%   \n",
       "4              4           26702                               49%   \n",
       "..           ...             ...                               ...   \n",
       "322            2           53841                               69%   \n",
       "323            3           25813                               11%   \n",
       "324            1           36498                               11%   \n",
       "325            3           51796                               82%   \n",
       "326            4           26678                               49%   \n",
       "\n",
       "    Marital Status     Zone                                         Remarks  \n",
       "0         Divorced     West                         Issues with the Manager  \n",
       "1          Single     South  More Challenging Job Roles/ Higher designation  \n",
       "2         Divorced  CENTRAL                         Issues with the Manager  \n",
       "3          Single      West                                  Lack of Growth  \n",
       "4         Divorced    North                         Issues with the Manager  \n",
       "..             ...      ...                                             ...  \n",
       "322       Divorced    South                                  Lack of Growth  \n",
       "323        Married    South                                  Lack of Growth  \n",
       "324       Divorced    South                                  Lack of Growth  \n",
       "325       Divorced    South                  Termination - Poor Performance  \n",
       "326       Divorced     East                         Issues with the Manager  \n",
       "\n",
       "[327 rows x 19 columns]"
      ]
     },
     "execution_count": 3,
     "metadata": {},
     "output_type": "execute_result"
    }
   ],
   "source": [
    "dat"
   ]
  },
  {
   "cell_type": "markdown",
   "id": "d6e5a7f8",
   "metadata": {},
   "source": [
    "This displays the whole data that is available for analysis.\n",
    "Now let us see the different types of columns available "
   ]
  },
  {
   "cell_type": "code",
   "execution_count": 4,
   "id": "270ffbfc",
   "metadata": {},
   "outputs": [
    {
     "name": "stdout",
     "output_type": "stream",
     "text": [
      "S.No\n",
      "EmpID\n",
      "Emp Name\n",
      "DOJ\n",
      "Designation\n",
      "Grade\n",
      "Attrition \n",
      "Location\n",
      "In Active Date\n",
      "Tenure\n",
      "Gender\n",
      "Education\n",
      "Age\n",
      "Last Rating\n",
      "Monthly Income\n",
      "Engagement Score (% Satisfaction)\n",
      "Marital Status\n",
      "Zone\n",
      "Remarks\n"
     ]
    }
   ],
   "source": [
    "for i in list(dat.columns):\n",
    "    print(i)"
   ]
  },
  {
   "cell_type": "markdown",
   "id": "ca2d1a73",
   "metadata": {},
   "source": [
    "For better readability we can rename some of the columns to their full form"
   ]
  },
  {
   "cell_type": "code",
   "execution_count": 5,
   "id": "7b60fe02-19d5-4006-9d39-15282879c363",
   "metadata": {},
   "outputs": [],
   "source": [
    "dat.rename(columns={'EmpID':'Employee ID','Emp Name':'Employee Name','DOJ':'Date of Joining'},inplace=True)"
   ]
  },
  {
   "cell_type": "markdown",
   "id": "e9f7d30d",
   "metadata": {},
   "source": [
    "Now the updated data is as follows-"
   ]
  },
  {
   "cell_type": "code",
   "execution_count": 6,
   "id": "7e8d5790",
   "metadata": {},
   "outputs": [
    {
     "data": {
      "text/html": [
       "<div>\n",
       "<style scoped>\n",
       "    .dataframe tbody tr th:only-of-type {\n",
       "        vertical-align: middle;\n",
       "    }\n",
       "\n",
       "    .dataframe tbody tr th {\n",
       "        vertical-align: top;\n",
       "    }\n",
       "\n",
       "    .dataframe thead th {\n",
       "        text-align: right;\n",
       "    }\n",
       "</style>\n",
       "<table border=\"1\" class=\"dataframe\">\n",
       "  <thead>\n",
       "    <tr style=\"text-align: right;\">\n",
       "      <th></th>\n",
       "      <th>S.No</th>\n",
       "      <th>Employee ID</th>\n",
       "      <th>Employee Name</th>\n",
       "      <th>Date of Joining</th>\n",
       "      <th>Designation</th>\n",
       "      <th>Grade</th>\n",
       "      <th>Attrition</th>\n",
       "      <th>Location</th>\n",
       "      <th>In Active Date</th>\n",
       "      <th>Tenure</th>\n",
       "      <th>Gender</th>\n",
       "      <th>Education</th>\n",
       "      <th>Age</th>\n",
       "      <th>Last Rating</th>\n",
       "      <th>Monthly Income</th>\n",
       "      <th>Engagement Score (% Satisfaction)</th>\n",
       "      <th>Marital Status</th>\n",
       "      <th>Zone</th>\n",
       "      <th>Remarks</th>\n",
       "    </tr>\n",
       "  </thead>\n",
       "  <tbody>\n",
       "    <tr>\n",
       "      <th>0</th>\n",
       "      <td>1</td>\n",
       "      <td>XYZ2685</td>\n",
       "      <td>ABC1</td>\n",
       "      <td>22-Nov-10</td>\n",
       "      <td>Sales Executive</td>\n",
       "      <td>E1</td>\n",
       "      <td>Yes</td>\n",
       "      <td>Bhavnagar</td>\n",
       "      <td>26-May-12</td>\n",
       "      <td>1. 6</td>\n",
       "      <td>Female</td>\n",
       "      <td>Bachelors</td>\n",
       "      <td>27</td>\n",
       "      <td>4</td>\n",
       "      <td>25535</td>\n",
       "      <td>2%</td>\n",
       "      <td>Divorced</td>\n",
       "      <td>West</td>\n",
       "      <td>Issues with the Manager</td>\n",
       "    </tr>\n",
       "    <tr>\n",
       "      <th>1</th>\n",
       "      <td>2</td>\n",
       "      <td>XYZ2490</td>\n",
       "      <td>ABC2</td>\n",
       "      <td>5-Jul-10</td>\n",
       "      <td>Technical Services Officer</td>\n",
       "      <td>M2</td>\n",
       "      <td>Yes</td>\n",
       "      <td>Jayanagar</td>\n",
       "      <td>6-Apr-12</td>\n",
       "      <td>1. 9</td>\n",
       "      <td>Male</td>\n",
       "      <td>MBA</td>\n",
       "      <td>36</td>\n",
       "      <td>2</td>\n",
       "      <td>52155</td>\n",
       "      <td>45%</td>\n",
       "      <td>Single</td>\n",
       "      <td>South</td>\n",
       "      <td>More Challenging Job Roles/ Higher designation</td>\n",
       "    </tr>\n",
       "    <tr>\n",
       "      <th>2</th>\n",
       "      <td>3</td>\n",
       "      <td>XYZ2662</td>\n",
       "      <td>ABC3</td>\n",
       "      <td>20-Oct-10</td>\n",
       "      <td>Sales Executive</td>\n",
       "      <td>E1</td>\n",
       "      <td>Yes</td>\n",
       "      <td>Indore</td>\n",
       "      <td>7-Apr-12</td>\n",
       "      <td>1. 5</td>\n",
       "      <td>Male</td>\n",
       "      <td>Bachelors</td>\n",
       "      <td>24</td>\n",
       "      <td>4</td>\n",
       "      <td>26438</td>\n",
       "      <td>18%</td>\n",
       "      <td>Divorced</td>\n",
       "      <td>CENTRAL</td>\n",
       "      <td>Issues with the Manager</td>\n",
       "    </tr>\n",
       "    <tr>\n",
       "      <th>3</th>\n",
       "      <td>4</td>\n",
       "      <td>XYZ1679</td>\n",
       "      <td>ABC4</td>\n",
       "      <td>1 May 08</td>\n",
       "      <td>AM - Sales</td>\n",
       "      <td>M1</td>\n",
       "      <td>Yes</td>\n",
       "      <td>Admin Gujarat</td>\n",
       "      <td>3 Apr 12</td>\n",
       "      <td>3 .11</td>\n",
       "      <td>Male</td>\n",
       "      <td>Bachelors</td>\n",
       "      <td>33</td>\n",
       "      <td>2</td>\n",
       "      <td>54311</td>\n",
       "      <td>82%</td>\n",
       "      <td>Single</td>\n",
       "      <td>West</td>\n",
       "      <td>Lack of Growth</td>\n",
       "    </tr>\n",
       "    <tr>\n",
       "      <th>4</th>\n",
       "      <td>5</td>\n",
       "      <td>XYZ2378</td>\n",
       "      <td>ABC5</td>\n",
       "      <td>3 Mar 10</td>\n",
       "      <td>Sales Executive</td>\n",
       "      <td>E1</td>\n",
       "      <td>Yes</td>\n",
       "      <td>Jagdishpuram</td>\n",
       "      <td>10 Apr 12</td>\n",
       "      <td>2 .1</td>\n",
       "      <td>Male</td>\n",
       "      <td>Bachelors</td>\n",
       "      <td>24</td>\n",
       "      <td>4</td>\n",
       "      <td>26702</td>\n",
       "      <td>49%</td>\n",
       "      <td>Divorced</td>\n",
       "      <td>North</td>\n",
       "      <td>Issues with the Manager</td>\n",
       "    </tr>\n",
       "    <tr>\n",
       "      <th>...</th>\n",
       "      <td>...</td>\n",
       "      <td>...</td>\n",
       "      <td>...</td>\n",
       "      <td>...</td>\n",
       "      <td>...</td>\n",
       "      <td>...</td>\n",
       "      <td>...</td>\n",
       "      <td>...</td>\n",
       "      <td>...</td>\n",
       "      <td>...</td>\n",
       "      <td>...</td>\n",
       "      <td>...</td>\n",
       "      <td>...</td>\n",
       "      <td>...</td>\n",
       "      <td>...</td>\n",
       "      <td>...</td>\n",
       "      <td>...</td>\n",
       "      <td>...</td>\n",
       "      <td>...</td>\n",
       "    </tr>\n",
       "    <tr>\n",
       "      <th>322</th>\n",
       "      <td>323</td>\n",
       "      <td>XYZ1538</td>\n",
       "      <td>ABC323</td>\n",
       "      <td>26-May-08</td>\n",
       "      <td>AM - Sales</td>\n",
       "      <td>M1</td>\n",
       "      <td>Yes</td>\n",
       "      <td>Guntur</td>\n",
       "      <td>15 Mar 13</td>\n",
       "      <td>4 .9</td>\n",
       "      <td>Male</td>\n",
       "      <td>Bachelors</td>\n",
       "      <td>37</td>\n",
       "      <td>2</td>\n",
       "      <td>53841</td>\n",
       "      <td>69%</td>\n",
       "      <td>Divorced</td>\n",
       "      <td>South</td>\n",
       "      <td>Lack of Growth</td>\n",
       "    </tr>\n",
       "    <tr>\n",
       "      <th>323</th>\n",
       "      <td>324</td>\n",
       "      <td>XYZ3221</td>\n",
       "      <td>ABC324</td>\n",
       "      <td>13-Sep-12</td>\n",
       "      <td>Sales Executive</td>\n",
       "      <td>E1</td>\n",
       "      <td>Yes</td>\n",
       "      <td>Guntur</td>\n",
       "      <td>7 Mar 13</td>\n",
       "      <td>0. 5</td>\n",
       "      <td>Male</td>\n",
       "      <td>Bachelors</td>\n",
       "      <td>25</td>\n",
       "      <td>3</td>\n",
       "      <td>25813</td>\n",
       "      <td>11%</td>\n",
       "      <td>Married</td>\n",
       "      <td>South</td>\n",
       "      <td>Lack of Growth</td>\n",
       "    </tr>\n",
       "    <tr>\n",
       "      <th>324</th>\n",
       "      <td>325</td>\n",
       "      <td>XYZ0207</td>\n",
       "      <td>ABC325</td>\n",
       "      <td>12-Dec-05</td>\n",
       "      <td>Sr Sales Executive</td>\n",
       "      <td>E2</td>\n",
       "      <td>Yes</td>\n",
       "      <td>Guntur</td>\n",
       "      <td>12 Mar 13</td>\n",
       "      <td>7 .3</td>\n",
       "      <td>Male</td>\n",
       "      <td>Bachelors</td>\n",
       "      <td>28</td>\n",
       "      <td>1</td>\n",
       "      <td>36498</td>\n",
       "      <td>11%</td>\n",
       "      <td>Divorced</td>\n",
       "      <td>South</td>\n",
       "      <td>Lack of Growth</td>\n",
       "    </tr>\n",
       "    <tr>\n",
       "      <th>325</th>\n",
       "      <td>326</td>\n",
       "      <td>XYZ0183</td>\n",
       "      <td>ABC326</td>\n",
       "      <td>21-Jul-04</td>\n",
       "      <td>AM - Sales</td>\n",
       "      <td>M1</td>\n",
       "      <td>Yes</td>\n",
       "      <td>Guntur</td>\n",
       "      <td>31 Mar 13</td>\n",
       "      <td>8 .8</td>\n",
       "      <td>Male</td>\n",
       "      <td>Bachelors</td>\n",
       "      <td>36</td>\n",
       "      <td>3</td>\n",
       "      <td>51796</td>\n",
       "      <td>82%</td>\n",
       "      <td>Divorced</td>\n",
       "      <td>South</td>\n",
       "      <td>Termination - Poor Performance</td>\n",
       "    </tr>\n",
       "    <tr>\n",
       "      <th>326</th>\n",
       "      <td>327</td>\n",
       "      <td>XYZ3381</td>\n",
       "      <td>ABC327</td>\n",
       "      <td>22-Feb-13</td>\n",
       "      <td>Sales Executive</td>\n",
       "      <td>E1</td>\n",
       "      <td>Yes</td>\n",
       "      <td>Hinoo</td>\n",
       "      <td>8 Mar 13</td>\n",
       "      <td>0. 0</td>\n",
       "      <td>Male</td>\n",
       "      <td>Bachelors</td>\n",
       "      <td>27</td>\n",
       "      <td>4</td>\n",
       "      <td>26678</td>\n",
       "      <td>49%</td>\n",
       "      <td>Divorced</td>\n",
       "      <td>East</td>\n",
       "      <td>Issues with the Manager</td>\n",
       "    </tr>\n",
       "  </tbody>\n",
       "</table>\n",
       "<p>327 rows × 19 columns</p>\n",
       "</div>"
      ],
      "text/plain": [
       "     S.No Employee ID Employee Name Date of Joining  \\\n",
       "0       1     XYZ2685          ABC1       22-Nov-10   \n",
       "1       2     XYZ2490          ABC2        5-Jul-10   \n",
       "2       3     XYZ2662          ABC3       20-Oct-10   \n",
       "3       4     XYZ1679          ABC4        1 May 08   \n",
       "4       5     XYZ2378          ABC5        3 Mar 10   \n",
       "..    ...         ...           ...             ...   \n",
       "322   323     XYZ1538        ABC323       26-May-08   \n",
       "323   324     XYZ3221        ABC324       13-Sep-12   \n",
       "324   325     XYZ0207        ABC325       12-Dec-05   \n",
       "325   326     XYZ0183        ABC326       21-Jul-04   \n",
       "326   327     XYZ3381        ABC327       22-Feb-13   \n",
       "\n",
       "                    Designation Grade Attrition        Location  \\\n",
       "0               Sales Executive    E1        Yes      Bhavnagar   \n",
       "1    Technical Services Officer    M2        Yes      Jayanagar   \n",
       "2               Sales Executive    E1        Yes         Indore   \n",
       "3                    AM - Sales    M1        Yes  Admin Gujarat   \n",
       "4              Sales Executive     E1        Yes   Jagdishpuram   \n",
       "..                          ...   ...        ...            ...   \n",
       "322                  AM - Sales    M1        Yes         Guntur   \n",
       "323             Sales Executive    E1        Yes         Guntur   \n",
       "324          Sr Sales Executive    E2        Yes         Guntur   \n",
       "325                  AM - Sales    M1        Yes         Guntur   \n",
       "326             Sales Executive    E1        Yes          Hinoo   \n",
       "\n",
       "    In Active Date  Tenure  Gender  Education  Age  Last Rating  \\\n",
       "0        26-May-12   1. 6   Female  Bachelors   27            4   \n",
       "1         6-Apr-12   1. 9     Male        MBA   36            2   \n",
       "2         7-Apr-12   1. 5     Male  Bachelors   24            4   \n",
       "3         3 Apr 12  3 .11     Male  Bachelors   33            2   \n",
       "4        10 Apr 12   2 .1     Male  Bachelors   24            4   \n",
       "..             ...     ...     ...        ...  ...          ...   \n",
       "322      15 Mar 13   4 .9     Male  Bachelors   37            2   \n",
       "323       7 Mar 13   0. 5     Male  Bachelors   25            3   \n",
       "324      12 Mar 13   7 .3     Male  Bachelors   28            1   \n",
       "325      31 Mar 13   8 .8     Male  Bachelors   36            3   \n",
       "326       8 Mar 13   0. 0     Male  Bachelors   27            4   \n",
       "\n",
       "     Monthly Income Engagement Score (% Satisfaction) Marital Status     Zone  \\\n",
       "0             25535                                2%       Divorced     West   \n",
       "1             52155                               45%        Single     South   \n",
       "2             26438                               18%       Divorced  CENTRAL   \n",
       "3             54311                               82%        Single      West   \n",
       "4             26702                               49%       Divorced    North   \n",
       "..              ...                               ...            ...      ...   \n",
       "322           53841                               69%       Divorced    South   \n",
       "323           25813                               11%        Married    South   \n",
       "324           36498                               11%       Divorced    South   \n",
       "325           51796                               82%       Divorced    South   \n",
       "326           26678                               49%       Divorced     East   \n",
       "\n",
       "                                            Remarks  \n",
       "0                           Issues with the Manager  \n",
       "1    More Challenging Job Roles/ Higher designation  \n",
       "2                           Issues with the Manager  \n",
       "3                                    Lack of Growth  \n",
       "4                           Issues with the Manager  \n",
       "..                                              ...  \n",
       "322                                  Lack of Growth  \n",
       "323                                  Lack of Growth  \n",
       "324                                  Lack of Growth  \n",
       "325                  Termination - Poor Performance  \n",
       "326                         Issues with the Manager  \n",
       "\n",
       "[327 rows x 19 columns]"
      ]
     },
     "execution_count": 6,
     "metadata": {},
     "output_type": "execute_result"
    }
   ],
   "source": [
    "dat"
   ]
  },
  {
   "cell_type": "markdown",
   "id": "dcb5ace5",
   "metadata": {},
   "source": [
    "Defining the required variables."
   ]
  },
  {
   "cell_type": "code",
   "execution_count": 7,
   "id": "f1124b9c",
   "metadata": {},
   "outputs": [],
   "source": [
    "columns = []   #Columns\n",
    "rows = []      #Row values\n",
    "eid = []       #Employee IDs\n",
    "tenure = []    #Tenures of Employees\n",
    "age = []       #Age of Employees\n",
    "rating = []    #Last ratings of the Employees\n",
    "incomes = []   #Income of Employees\n",
    "eng = []       #Engagement score of Employees\n",
    "male = 0       #Male Employees\n",
    "female = 0     #Female Employees\n",
    "bach = 0       #Bachelor Employees\n",
    "mba = 0        #MBA Employees\n",
    "div = 0        #Divorced Employees\n",
    "single = 0     #Single Employees\n",
    "marr = 0       #Married Employees\n",
    "north = 0      #Employees in Northern Zone\n",
    "east = 0       #Employees in Eastern Zone\n",
    "west = 0       #Employees in Western Zone\n",
    "south = 0      #Employees in Southern Zone\n",
    "center = 0     #Employees in Central Zone"
   ]
  },
  {
   "cell_type": "markdown",
   "id": "e0f808e0",
   "metadata": {},
   "source": [
    "Working on data.csv and assigning the values to the variables."
   ]
  },
  {
   "cell_type": "code",
   "execution_count": 8,
   "id": "99b6a4b7",
   "metadata": {},
   "outputs": [],
   "source": [
    "with open('data.csv','r+') as data:\n",
    "    cread=csv.reader(data)\n",
    "    columns=next(cread)\n",
    "    for row in cread :\n",
    "        rows.append(row)\n",
    "\n",
    "for i in range(len(columns)):\n",
    "    for j in rows:\n",
    "        if columns[i]=='EmpID' :\n",
    "            eid.append(j[i])\n",
    "        elif columns[i]=='Tenure' :\n",
    "            tenure.append(str_to_float(j[i]))\n",
    "        elif columns[i]=='Gender' :\n",
    "            if ('Male'in j[i]) :\n",
    "                male+=1\n",
    "            else:\n",
    "                female+=1\n",
    "        elif columns[i]=='Education' :\n",
    "            if ('Bachelors'in j[i]) :\n",
    "                bach+=1\n",
    "            else:\n",
    "                mba+=1\n",
    "        elif columns[i]=='Age' :\n",
    "            age.append(str_to_float(j[i]))\n",
    "        elif columns[i]=='Last Rating' :\n",
    "            rating.append(str_to_float(j[i]))\n",
    "        elif columns[i]=='Monthly Income' :\n",
    "            incomes.append(str_to_float(j[i]))\n",
    "        elif columns[i]=='Engagement Score (% Satisfaction)' :\n",
    "            eng.append(str_to_float(j[i]))\n",
    "        elif columns[i]=='Marital Status' :\n",
    "            if ('Divorced'in j[i]) :\n",
    "                div+=1\n",
    "            elif ('Single'in j[i]) :\n",
    "                single+=1\n",
    "            else:\n",
    "                marr+=1\n",
    "        elif columns[i]=='Zone' :\n",
    "            if ('North'in j[i]) :\n",
    "                north+=1\n",
    "            elif ('East'in j[i]) :\n",
    "                east+=1\n",
    "            elif ('West'in j[i]) :\n",
    "                west+=1\n",
    "            elif ('South'in j[i]) :\n",
    "                south+=1\n",
    "            else:\n",
    "                center+=1"
   ]
  },
  {
   "cell_type": "markdown",
   "id": "5a95a5da",
   "metadata": {},
   "source": [
    "Displaying the data-"
   ]
  },
  {
   "cell_type": "markdown",
   "id": "9527805b",
   "metadata": {},
   "source": [
    "1. Tenure Variations in employees"
   ]
  },
  {
   "cell_type": "code",
   "execution_count": 9,
   "id": "120a71e5",
   "metadata": {},
   "outputs": [
    {
     "data": {
      "image/png": "[encoded data removed]",
      "text/plain": [
       "<Figure size 432x288 with 1 Axes>"
      ]
     },
     "metadata": {
      "needs_background": "light"
     },
     "output_type": "display_data"
    }
   ],
   "source": [
    "mp.xlabel('Tenures (Years)')\n",
    "mp.ylabel('Number of Employees')\n",
    "mp.title('Tenure Variations')\n",
    "mp.hist(tenure,color='r',edgecolor='w')\n",
    "mp.show()"
   ]
  },
  {
   "cell_type": "markdown",
   "id": "0889f968",
   "metadata": {},
   "source": [
    "From the above it can be noted that there is a large number of employee that has left the company after working for a few years and no empoyees with more than 10 years of work experience in the company."
   ]
  },
  {
   "cell_type": "markdown",
   "id": "083a50dc",
   "metadata": {},
   "source": [
    "2. Age Variations"
   ]
  },
  {
   "cell_type": "code",
   "execution_count": 10,
   "id": "5551dc28",
   "metadata": {},
   "outputs": [
    {
     "data": {
      "image/png": "[encoded data removed]",
      "text/plain": [
       "<Figure size 432x288 with 1 Axes>"
      ]
     },
     "metadata": {
      "needs_background": "light"
     },
     "output_type": "display_data"
    }
   ],
   "source": [
    "mp.xlabel('Age (Years)')\n",
    "mp.ylabel('Number of Employees')\n",
    "mp.title('Age Variations')\n",
    "mp.hist(age,color='b',edgecolor='w')\n",
    "mp.show()"
   ]
  },
  {
   "cell_type": "markdown",
   "id": "d311211b",
   "metadata": {},
   "source": [
    "This shows that a major fraction of the employees who left were less than 30 years of age. The employees who left the company of age group 40-55 are relatively less."
   ]
  },
  {
   "cell_type": "markdown",
   "id": "90a6098e",
   "metadata": {},
   "source": [
    "3. Last Rating Variations"
   ]
  },
  {
   "cell_type": "code",
   "execution_count": 11,
   "id": "14330e51",
   "metadata": {},
   "outputs": [
    {
     "data": {
      "image/png": "[encoded data removed]",
      "text/plain": [
       "<Figure size 432x288 with 1 Axes>"
      ]
     },
     "metadata": {
      "needs_background": "light"
     },
     "output_type": "display_data"
    }
   ],
   "source": [
    "mp.xlabel('Last Rating')\n",
    "mp.ylabel('Number of Employees')\n",
    "mp.title('Rating Variations')\n",
    "mp.hist(rating,color='g',edgecolor='w')\n",
    "mp.show()"
   ]
  },
  {
   "cell_type": "markdown",
   "id": "36fdb6a6",
   "metadata": {},
   "source": [
    "From the above it can be noted that the number of employees having rating of 1 and 5 is very less compared to the number of employees having rating in the range of 2-4."
   ]
  },
  {
   "cell_type": "markdown",
   "id": "7aa86a91",
   "metadata": {},
   "source": [
    "4. Monthly Income Variation"
   ]
  },
  {
   "cell_type": "code",
   "execution_count": 12,
   "id": "e86e1d50",
   "metadata": {},
   "outputs": [
    {
     "data": {
      "image/png": "[encoded data removed]",
      "text/plain": [
       "<Figure size 432x288 with 1 Axes>"
      ]
     },
     "metadata": {
      "needs_background": "light"
     },
     "output_type": "display_data"
    }
   ],
   "source": [
    "mp.xlabel('Monthly Incomes')\n",
    "mp.ylabel('Number of Employees')\n",
    "mp.title('Inclome Variations')\n",
    "mp.hist(incomes,color='y',edgecolor='w')\n",
    "mp.show()"
   ]
  },
  {
   "cell_type": "markdown",
   "id": "3a6e571f",
   "metadata": {},
   "source": [
    "From the above we can see that most of the employees have income of 50,000 or less, the number of employees having income more than 50,000 is relatively less showing that many employees do not work long enough to end up in high paying positions in the company."
   ]
  },
  {
   "cell_type": "markdown",
   "id": "39743cdb",
   "metadata": {},
   "source": [
    "5. Engagement Score Variation"
   ]
  },
  {
   "cell_type": "code",
   "execution_count": 13,
   "id": "7b505627",
   "metadata": {},
   "outputs": [
    {
     "data": {
      "image/png": "[encoded data removed]",
      "text/plain": [
       "<Figure size 432x288 with 1 Axes>"
      ]
     },
     "metadata": {
      "needs_background": "light"
     },
     "output_type": "display_data"
    }
   ],
   "source": [
    "mp.xlabel('Engagement Score (% Satisfaction)')\n",
    "mp.ylabel('Number of Employees')\n",
    "mp.title('Engagement Score Variations')\n",
    "mp.hist(eng,color='c',edgecolor='w')\n",
    "mp.show()"
   ]
  },
  {
   "cell_type": "markdown",
   "id": "0c262344",
   "metadata": {},
   "source": [
    "This shows the large distribution of engagement scores of the employees, employees with engagement score of 60-70% is the largest in numbers, but right below that are the employees having engagement score of 10-20% which is quite low."
   ]
  },
  {
   "cell_type": "markdown",
   "id": "2555a2b1",
   "metadata": {},
   "source": [
    "6. Gender Variation"
   ]
  },
  {
   "cell_type": "code",
   "execution_count": 14,
   "id": "99098653",
   "metadata": {},
   "outputs": [
    {
     "data": {
      "image/png": "[encoded data removed]",
      "text/plain": [
       "<Figure size 432x288 with 1 Axes>"
      ]
     },
     "metadata": {},
     "output_type": "display_data"
    }
   ],
   "source": [
    "gendervar=[male,female]\n",
    "mp.title('Gender Varitation')\n",
    "mp.pie(gendervar,labels=['Male','Female'],autopct='%1.2f%%',explode=[0,0.5])\n",
    "mp.show()"
   ]
  },
  {
   "cell_type": "markdown",
   "id": "48f8c54b",
   "metadata": {},
   "source": [
    "From the above it can be noted that most of the employees are male and the number of female employees are significantly less, this could mean that the company is more favourable towards men."
   ]
  },
  {
   "cell_type": "markdown",
   "id": "4a8a1d97",
   "metadata": {},
   "source": [
    "7. Educational Variation"
   ]
  },
  {
   "cell_type": "code",
   "execution_count": 15,
   "id": "ff631767",
   "metadata": {},
   "outputs": [
    {
     "data": {
      "image/png": "[encoded data removed]",
      "text/plain": [
       "<Figure size 432x288 with 1 Axes>"
      ]
     },
     "metadata": {},
     "output_type": "display_data"
    }
   ],
   "source": [
    "edu=[bach,mba]\n",
    "mp.title('Educational Variation')\n",
    "mp.pie(edu,labels=['Bachelors','MBA'],colors=['r','c'],autopct='%1.2f%%',explode=[0,0.5])\n",
    "mp.show()"
   ]
  },
  {
   "cell_type": "markdown",
   "id": "984b99f0",
   "metadata": {},
   "source": [
    "From here we can note that most of the employees are bachelors and very less have an MBA degree, meaning there might not be many with a good amount of corporate knowledge and if there are many BTECH graduates, it would show that the company might be working in technological sector."
   ]
  },
  {
   "cell_type": "markdown",
   "id": "c07d5335",
   "metadata": {},
   "source": [
    "8. Marital Status Variation"
   ]
  },
  {
   "cell_type": "code",
   "execution_count": 16,
   "id": "f4b18993",
   "metadata": {},
   "outputs": [
    {
     "data": {
      "image/png": "[encoded data removed]",
      "text/plain": [
       "<Figure size 432x288 with 1 Axes>"
      ]
     },
     "metadata": {},
     "output_type": "display_data"
    }
   ],
   "source": [
    "mar=[div,single,marr]\n",
    "mp.title('Marital Status Variation')\n",
    "mp.pie(mar,labels=['Divorced','Single','Married'],colors=['silver','green','blue'],autopct='%1.2f%%',explode=[0.1,0.1,0.1])\n",
    "mp.show()"
   ]
  },
  {
   "cell_type": "markdown",
   "id": "611252c3",
   "metadata": {},
   "source": [
    "This shows nearly equal distribution of the number of employees who are divorced, single or married. We can also see that the maximum number of employees are divorced."
   ]
  },
  {
   "cell_type": "markdown",
   "id": "d9ddd6f6",
   "metadata": {},
   "source": [
    "9. Zonal Variation"
   ]
  },
  {
   "cell_type": "code",
   "execution_count": 17,
   "id": "1aa634b8",
   "metadata": {},
   "outputs": [
    {
     "data": {
      "image/png": "[encoded data removed]",
      "text/plain": [
       "<Figure size 432x288 with 1 Axes>"
      ]
     },
     "metadata": {},
     "output_type": "display_data"
    }
   ],
   "source": [
    "zones=[north,east,west,south,center]\n",
    "mp.title('Zonal Variation')\n",
    "mp.pie(zones,labels=['North','East','West','South','Center'],autopct='%1.2f%%',explode=[0.2,0.2,0.2,0.2,0.2])\n",
    "mp.show()"
   ]
  },
  {
   "cell_type": "markdown",
   "id": "e6080040",
   "metadata": {},
   "source": [
    "From the above we can note that the largest percentage of employees are from the southern zone and could mean that the company is headed somewhere in the southern zone."
   ]
  }
 ],
 "metadata": {
  "kernelspec": {
   "display_name": "Python 3 (ipykernel)",
   "language": "python",
   "name": "python3"
  },
  "language_info": {
   "codemirror_mode": {
    "name": "ipython",
    "version": 3
   },
   "file_extension": ".py",
   "mimetype": "text/x-python",
   "name": "python",
   "nbconvert_exporter": "python",
   "pygments_lexer": "ipython3",
   "version": "3.9.12"
  }
 },
 "nbformat": 4,
 "nbformat_minor": 5
}
